{
 "cells": [
  {
   "cell_type": "code",
   "execution_count": 1,
   "id": "372d714c-c343-4f46-82ab-afac898c65c0",
   "metadata": {},
   "outputs": [],
   "source": [
    "import pandas as pd\n",
    "import numpy as np\n",
    "import matplotlib.pyplot as plt"
   ]
  },
  {
   "cell_type": "code",
   "execution_count": 2,
   "id": "0227cdfc-a359-4025-b860-6ec18459e23d",
   "metadata": {},
   "outputs": [],
   "source": [
    "df = pd.read_csv('AirQualityUCI.csv', sep = ';', decimal = ',')"
   ]
  },
  {
   "cell_type": "code",
   "execution_count": 3,
   "id": "e4710a89-cbad-4c12-a4bf-ace4a56376c9",
   "metadata": {},
   "outputs": [],
   "source": [
    "#removing the last two columns from the dataframe\n",
    "df = df.drop(columns = ['Unnamed: 15', 'Unnamed: 16'])"
   ]
  },
  {
   "cell_type": "code",
   "execution_count": 4,
   "id": "1a268950-a6ee-499d-b01a-56b90ec2887d",
   "metadata": {},
   "outputs": [
    {
     "data": {
      "text/plain": [
       "Date                0\n",
       "Time                0\n",
       "CO(GT)           1683\n",
       "PT08.S1(CO)       366\n",
       "NMHC(GT)         8443\n",
       "C6H6(GT)          366\n",
       "PT08.S2(NMHC)     366\n",
       "NOx(GT)          1639\n",
       "PT08.S3(NOx)      366\n",
       "NO2(GT)          1642\n",
       "PT08.S4(NO2)      366\n",
       "PT08.S5(O3)       366\n",
       "T                 366\n",
       "RH                366\n",
       "AH                366\n",
       "dtype: int64"
      ]
     },
     "execution_count": 4,
     "metadata": {},
     "output_type": "execute_result"
    }
   ],
   "source": [
    "#now remove all of the rows from 9357th row, since rest of the rows contain null values (we got this information from dataset documentation)\n",
    "df = df[:9357]\n",
    "df.shape\n",
    "#Now we have to find out how many -200 values are present in the dataset, so that we can replace them\n",
    "df.isin([-200]).sum(axis=0)"
   ]
  },
  {
   "cell_type": "code",
   "execution_count": 5,
   "id": "d0b752bd-49b3-41a2-93e7-f4647103e650",
   "metadata": {},
   "outputs": [
    {
     "name": "stdout",
     "output_type": "stream",
     "text": [
      "Date             0\n",
      "Time             0\n",
      "CO(GT)           0\n",
      "PT08.S1(CO)      0\n",
      "NMHC(GT)         0\n",
      "C6H6(GT)         0\n",
      "PT08.S2(NMHC)    0\n",
      "NOx(GT)          0\n",
      "PT08.S3(NOx)     0\n",
      "NO2(GT)          0\n",
      "PT08.S4(NO2)     0\n",
      "PT08.S5(O3)      0\n",
      "T                0\n",
      "RH               0\n",
      "AH               0\n",
      "dtype: int64\n"
     ]
    }
   ],
   "source": [
    "#Now first replace them by null value, then replace them by the median\n",
    "df = df.replace(to_replace = -200, value = np.NaN)\n",
    "print(df.isin([-200]).sum(axis=0))\n",
    "columns_median = df.mean(numeric_only=True)\n",
    "df= df.fillna(columns_median)"
   ]
  },
  {
   "cell_type": "code",
   "execution_count": null,
   "id": "ac662c34-f20d-43c0-8d80-829fefcd7151",
   "metadata": {},
   "outputs": [],
   "source": []
  },
  {
   "cell_type": "code",
   "execution_count": null,
   "id": "0f9cf856-eb83-4eec-ba67-36bc932da9d3",
   "metadata": {},
   "outputs": [],
   "source": []
  }
 ],
 "metadata": {
  "kernelspec": {
   "display_name": "Python [conda env:base] *",
   "language": "python",
   "name": "conda-base-py"
  },
  "language_info": {
   "codemirror_mode": {
    "name": "ipython",
    "version": 3
   },
   "file_extension": ".py",
   "mimetype": "text/x-python",
   "name": "python",
   "nbconvert_exporter": "python",
   "pygments_lexer": "ipython3",
   "version": "3.12.7"
  }
 },
 "nbformat": 4,
 "nbformat_minor": 5
}
