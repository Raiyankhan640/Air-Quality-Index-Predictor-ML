{
 "cells": [
  {
   "cell_type": "code",
   "execution_count": 1,
   "id": "372d714c-c343-4f46-82ab-afac898c65c0",
   "metadata": {},
   "outputs": [],
   "source": [
    "import pandas as pd\n",
    "import numpy as np\n",
    "import matplotlib.pyplot as plt"
   ]
  },
  {
   "cell_type": "code",
   "execution_count": 2,
   "id": "0227cdfc-a359-4025-b860-6ec18459e23d",
   "metadata": {},
   "outputs": [],
   "source": [
    "df = pd.read_csv('AirQualityUCI.csv', sep = ';', decimal = ',')"
   ]
  },
  {
   "cell_type": "code",
   "execution_count": 3,
   "id": "e4710a89-cbad-4c12-a4bf-ace4a56376c9",
   "metadata": {},
   "outputs": [],
   "source": [
    "#removing the last two columns from the dataframe\n",
    "df = df.drop(columns = ['Unnamed: 15', 'Unnamed: 16'])"
   ]
  },
  {
   "cell_type": "code",
   "execution_count": 4,
   "id": "1a268950-a6ee-499d-b01a-56b90ec2887d",
   "metadata": {},
   "outputs": [
    {
     "data": {
      "text/plain": [
       "Date                0\n",
       "Time                0\n",
       "CO(GT)           1683\n",
       "PT08.S1(CO)       366\n",
       "NMHC(GT)         8443\n",
       "C6H6(GT)          366\n",
       "PT08.S2(NMHC)     366\n",
       "NOx(GT)          1639\n",
       "PT08.S3(NOx)      366\n",
       "NO2(GT)          1642\n",
       "PT08.S4(NO2)      366\n",
       "PT08.S5(O3)       366\n",
       "T                 366\n",
       "RH                366\n",
       "AH                366\n",
       "dtype: int64"
      ]
     },
     "execution_count": 4,
     "metadata": {},
     "output_type": "execute_result"
    }
   ],
   "source": [
    "#now remove all of the rows from 9357th row, since rest of the rows contain null values (we got this information from dataset documentation)\n",
    "df = df[:9357]\n",
    "df.shape\n",
    "#Now we have to find out how many -200 values are present in the dataset, so that we can replace them\n",
    "df.isin([-200]).sum(axis=0)"
   ]
  },
  {
   "cell_type": "code",
   "execution_count": 5,
   "id": "d0b752bd-49b3-41a2-93e7-f4647103e650",
   "metadata": {},
   "outputs": [],
   "source": [
    "#Now first replace them by null value, then replace them by the median\n",
    "df = df.replace(to_replace = -200, value = np.NaN)\n",
    "columns_median = df.mean(numeric_only=True)\n",
    "df= df.fillna(columns_median)\n",
    "\n",
    "#convert date formate from DD/MM/YYYY to YYYY-MM-DD\n",
    "df['Date'] = pd.to_datetime(df['Date'], errors='coerce')\n",
    "#convert time formate \n",
    "df['Time'] = df['Time'].str.replace('.', ':', regex=False)"
   ]
  },
  {
   "cell_type": "code",
   "execution_count": 6,
   "id": "8ba6b29c-4ac4-4f6e-8d99-47b8927d8a9e",
   "metadata": {},
   "outputs": [],
   "source": [
    "#Now, let's take CO(GT) as dependent variable and rest of the columns as independent variable.\n",
    "# Selecting features and target\n",
    "x_values = df[['PT08.S1(CO)', 'NMHC(GT)', 'C6H6(GT)', 'PT08.S2(NMHC)', \n",
    "        'NOx(GT)', 'PT08.S3(NOx)', 'NO2(GT)', 'PT08.S4(NO2)', \n",
    "        'PT08.S5(O3)', 'T', 'RH', 'AH']]\n",
    "y_values = df['CO(GT)']"
   ]
  },
  {
   "cell_type": "code",
   "execution_count": 7,
   "id": "0a0f7fa8-cb9d-45a9-8ca3-a2930e1b6368",
   "metadata": {},
   "outputs": [],
   "source": [
    "# splitting the dataset into test(30%) and train(70%)\n",
    "from sklearn.model_selection import train_test_split\n",
    "from sklearn.linear_model import LinearRegression\n",
    "from sklearn.metrics import mean_squared_error, r2_score\n",
    "\n",
    "x_train, x_test, y_train, y_test = train_test_split(x_values, y_values, test_size=0.3, random_state=42)\n",
    "#train the model\n",
    "model = LinearRegression()\n",
    "model.fit(x_train, y_train)\n",
    "y_pred = model.predict(x_test)"
   ]
  },
  {
   "cell_type": "code",
   "execution_count": 20,
   "id": "13b441ee-0916-40ff-b80d-d13a5708a30d",
   "metadata": {},
   "outputs": [
    {
     "name": "stdout",
     "output_type": "stream",
     "text": [
      "2973    1.30000\n",
      "3396    2.15275\n",
      "4372    2.60000\n",
      "6025    3.10000\n",
      "7960    1.30000\n",
      "5263    2.15275\n",
      "8331    1.40000\n",
      "1745    1.80000\n",
      "5148    1.10000\n",
      "2111    1.00000\n",
      "Name: CO(GT), dtype: float64\n",
      "[1.4257292  0.94629266 2.56512861 2.88056209 1.85757994 1.63660573\n",
      " 1.43331156 2.09500634 1.37114783 1.2579157 ]\n"
     ]
    },
    {
     "data": {
      "text/plain": [
       "81.46991279184263"
      ]
     },
     "execution_count": 20,
     "metadata": {},
     "output_type": "execute_result"
    }
   ],
   "source": [
    "#now check the accuracy\n",
    "print(y_test[:10])\n",
    "print(y_pred[:10])\n",
    "r2 = r2_score(y_test, y_pred)\n",
    "r2*100"
   ]
  },
  {
   "cell_type": "code",
   "execution_count": 21,
   "id": "1c48f0cc-76cf-40ff-a740-5762d7b52f3d",
   "metadata": {},
   "outputs": [
    {
     "data": {
      "text/plain": [
       "Text(0, 0.5, 'Actual')"
      ]
     },
     "execution_count": 21,
     "metadata": {},
     "output_type": "execute_result"
    },
    {
     "data": {
      "image/png": "[encoded data removed]",
      "text/plain": [
       "<Figure size 640x480 with 1 Axes>"
      ]
     },
     "metadata": {},
     "output_type": "display_data"
    }
   ],
   "source": [
    "#visualize the actual and predicted data through matplotlib package\n",
    "plt.scatter(y_test[:10], y_pred[:10], color='blue', marker='+')\n",
    "plt.title('Residual Plot')\n",
    "plt.xlabel('Predicted Values')\n",
    "plt.ylabel('Actual')"
   ]
  },
  {
   "cell_type": "code",
   "execution_count": null,
   "id": "86d245b2-959b-43dd-8c97-aa99a57f5b4c",
   "metadata": {},
   "outputs": [],
   "source": []
  }
 ],
 "metadata": {
  "kernelspec": {
   "display_name": "Python [conda env:base] *",
   "language": "python",
   "name": "conda-base-py"
  },
  "language_info": {
   "codemirror_mode": {
    "name": "ipython",
    "version": 3
   },
   "file_extension": ".py",
   "mimetype": "text/x-python",
   "name": "python",
   "nbconvert_exporter": "python",
   "pygments_lexer": "ipython3",
   "version": "3.12.7"
  }
 },
 "nbformat": 4,
 "nbformat_minor": 5
}
